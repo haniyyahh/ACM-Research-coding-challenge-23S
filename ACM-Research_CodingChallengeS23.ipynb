{
 "cells": [
  {
   "cell_type": "markdown",
   "id": "330be5e2-5dab-40bf-9f54-419d8798111e",
   "metadata": {},
   "source": [
    "# ACM Research coding challenge (Spring 2023)"
   ]
  },
  {
   "cell_type": "markdown",
   "id": "3c710816-db0f-4bb0-a5ed-b37f21610732",
   "metadata": {},
   "source": [
    "## Star dataset to predict star types\n",
    "Link to dataset: https://www.kaggle.com/datasets/deepu1109/star-dataset?resource=download"
   ]
  },
  {
   "cell_type": "markdown",
   "id": "f0443d71-be97-469e-9395-4e15e9a31227",
   "metadata": {},
   "source": [
    "## Reading in data"
   ]
  },
  {
   "cell_type": "code",
   "execution_count": 172,
   "id": "f08754b6-075c-4b81-af16-611d26d32ca9",
   "metadata": {},
   "outputs": [],
   "source": [
    "# Import libraries\n",
    "import pandas as pd\n",
    "import numpy as np\n",
    "import seaborn as sb"
   ]
  },
  {
   "cell_type": "code",
   "execution_count": 173,
   "id": "bbd1fc17-5321-4476-aeb6-d705b6625a92",
   "metadata": {},
   "outputs": [],
   "source": [
    "# Reading in .csv file\n",
    "data = pd.read_csv('/Users/Owner/Desktop/projects/ACM-Research_CodingChallenge/6classcsv.csv')"
   ]
  },
  {
   "cell_type": "code",
   "execution_count": 174,
   "id": "b6fa8066-0639-44cb-bd59-d4222af9566b",
   "metadata": {},
   "outputs": [
    {
     "name": "stdout",
     "output_type": "stream",
     "text": [
      "Dimensions of dataset:  (240, 7)\n",
      "   Temperature (K)  Luminosity(L/Lo)  Radius(R/Ro)  Absolute magnitude(Mv)  \\\n",
      "0             3068          0.002400        0.1700                   16.12   \n",
      "1             3042          0.000500        0.1542                   16.60   \n",
      "2             2600          0.000300        0.1020                   18.70   \n",
      "3             2800          0.000200        0.1600                   16.65   \n",
      "4             1939          0.000138        0.1030                   20.06   \n",
      "\n",
      "   Star type Star color Spectral Class  \n",
      "0          0        Red              M  \n",
      "1          0        Red              M  \n",
      "2          0        Red              M  \n",
      "3          0        Red              M  \n",
      "4          0        Red              M  \n"
     ]
    }
   ],
   "source": [
    "# Printing first few lines + dimensions\n",
    "print(\"Dimensions of dataset: \", data.shape)\n",
    "print(data.head())"
   ]
  },
  {
   "cell_type": "markdown",
   "id": "b6881261-4a7a-4d2b-8581-3c3cdff3859c",
   "metadata": {},
   "source": [
    "## Exploring the Data"
   ]
  },
  {
   "cell_type": "code",
   "execution_count": 175,
   "id": "13a3521d-d716-4161-8fbf-d5cb2a73546d",
   "metadata": {},
   "outputs": [
    {
     "data": {
      "text/plain": [
       "Temperature (K)           0\n",
       "Luminosity(L/Lo)          0\n",
       "Radius(R/Ro)              0\n",
       "Absolute magnitude(Mv)    0\n",
       "Star type                 0\n",
       "Star color                0\n",
       "Spectral Class            0\n",
       "dtype: int64"
      ]
     },
     "execution_count": 175,
     "metadata": {},
     "output_type": "execute_result"
    }
   ],
   "source": [
    "# checking for any NULLs\n",
    "data.isnull().sum()"
   ]
  },
  {
   "cell_type": "markdown",
   "id": "6e0adb61-d861-48f9-9b26-5620cc4e542c",
   "metadata": {},
   "source": [
    "### Statistics of dataset (Star type, temperature, luminosity)"
   ]
  },
  {
   "cell_type": "code",
   "execution_count": 176,
   "id": "51bc19e4-e85d-4e31-86a4-d1b4232115aa",
   "metadata": {},
   "outputs": [
    {
     "data": {
      "text/html": [
       "<div>\n",
       "<style scoped>\n",
       "    .dataframe tbody tr th:only-of-type {\n",
       "        vertical-align: middle;\n",
       "    }\n",
       "\n",
       "    .dataframe tbody tr th {\n",
       "        vertical-align: top;\n",
       "    }\n",
       "\n",
       "    .dataframe thead th {\n",
       "        text-align: right;\n",
       "    }\n",
       "</style>\n",
       "<table border=\"1\" class=\"dataframe\">\n",
       "  <thead>\n",
       "    <tr style=\"text-align: right;\">\n",
       "      <th></th>\n",
       "      <th>Star type</th>\n",
       "      <th>Temperature (K)</th>\n",
       "      <th>Luminosity(L/Lo)</th>\n",
       "    </tr>\n",
       "  </thead>\n",
       "  <tbody>\n",
       "    <tr>\n",
       "      <th>count</th>\n",
       "      <td>240.000000</td>\n",
       "      <td>240.000000</td>\n",
       "      <td>240.000000</td>\n",
       "    </tr>\n",
       "    <tr>\n",
       "      <th>mean</th>\n",
       "      <td>2.500000</td>\n",
       "      <td>10497.462500</td>\n",
       "      <td>107188.361635</td>\n",
       "    </tr>\n",
       "    <tr>\n",
       "      <th>std</th>\n",
       "      <td>1.711394</td>\n",
       "      <td>9552.425037</td>\n",
       "      <td>179432.244940</td>\n",
       "    </tr>\n",
       "    <tr>\n",
       "      <th>min</th>\n",
       "      <td>0.000000</td>\n",
       "      <td>1939.000000</td>\n",
       "      <td>0.000080</td>\n",
       "    </tr>\n",
       "    <tr>\n",
       "      <th>25%</th>\n",
       "      <td>1.000000</td>\n",
       "      <td>3344.250000</td>\n",
       "      <td>0.000865</td>\n",
       "    </tr>\n",
       "    <tr>\n",
       "      <th>50%</th>\n",
       "      <td>2.500000</td>\n",
       "      <td>5776.000000</td>\n",
       "      <td>0.070500</td>\n",
       "    </tr>\n",
       "    <tr>\n",
       "      <th>75%</th>\n",
       "      <td>4.000000</td>\n",
       "      <td>15055.500000</td>\n",
       "      <td>198050.000000</td>\n",
       "    </tr>\n",
       "    <tr>\n",
       "      <th>max</th>\n",
       "      <td>5.000000</td>\n",
       "      <td>40000.000000</td>\n",
       "      <td>849420.000000</td>\n",
       "    </tr>\n",
       "  </tbody>\n",
       "</table>\n",
       "</div>"
      ],
      "text/plain": [
       "        Star type  Temperature (K)  Luminosity(L/Lo)\n",
       "count  240.000000       240.000000        240.000000\n",
       "mean     2.500000     10497.462500     107188.361635\n",
       "std      1.711394      9552.425037     179432.244940\n",
       "min      0.000000      1939.000000          0.000080\n",
       "25%      1.000000      3344.250000          0.000865\n",
       "50%      2.500000      5776.000000          0.070500\n",
       "75%      4.000000     15055.500000     198050.000000\n",
       "max      5.000000     40000.000000     849420.000000"
      ]
     },
     "execution_count": 176,
     "metadata": {},
     "output_type": "execute_result"
    }
   ],
   "source": [
    "data[[\"Star type\", \"Temperature (K)\", \"Luminosity(L/Lo)\"]].describe()"
   ]
  },
  {
   "cell_type": "markdown",
   "id": "45240208-b6e2-4c94-b4fb-e98aacdb04e2",
   "metadata": {},
   "source": [
    "### Graph Visualization\n",
    "1. Comparing the mean radius of each star type\n",
    "2. Comparing the mean temperature of each star type\n",
    "3. Comparing the mean luminosity of each star type"
   ]
  },
  {
   "cell_type": "code",
   "execution_count": 177,
   "id": "c5b8a1f6-f424-42ae-9d97-9c9e54be30af",
   "metadata": {},
   "outputs": [],
   "source": [
    "from sklearn import datasets"
   ]
  },
  {
   "cell_type": "code",
   "execution_count": 178,
   "id": "9f46efc3-be70-4155-a9ab-6279b6e1571c",
   "metadata": {},
   "outputs": [
    {
     "data": {
      "text/plain": [
       "<AxesSubplot:xlabel='Star type', ylabel='Radius(R/Ro)'>"
      ]
     },
     "execution_count": 178,
     "metadata": {},
     "output_type": "execute_result"
    },
    {
     "data": {
      "image/png": "[encoded data removed]",
      "text/plain": [
       "<Figure size 640x480 with 1 Axes>"
      ]
     },
     "metadata": {},
     "output_type": "display_data"
    }
   ],
   "source": [
    "# 1.\n",
    "sb.barplot(data=data, x=\"Star type\", y=\"Radius(R/Ro)\")"
   ]
  },
  {
   "cell_type": "markdown",
   "id": "d6ee5678-6722-4051-b10f-73ba8c56b91d",
   "metadata": {},
   "source": [
    "From this graph, we see that the hypergiant star has a mean radius that is 1300+ R/Ro larger than every other star type."
   ]
  },
  {
   "cell_type": "code",
   "execution_count": 179,
   "id": "50c726b6-4222-4a26-8b60-44dd579da0af",
   "metadata": {},
   "outputs": [
    {
     "data": {
      "text/plain": [
       "<AxesSubplot:xlabel='Star type', ylabel='Temperature (K)'>"
      ]
     },
     "execution_count": 179,
     "metadata": {},
     "output_type": "execute_result"
    },
    {
     "data": {
      "image/png": "[encoded data removed]",
      "text/plain": [
       "<Figure size 640x480 with 1 Axes>"
      ]
     },
     "metadata": {},
     "output_type": "display_data"
    }
   ],
   "source": [
    "# 2. \n",
    "sb.barplot(data=data, x=\"Star type\", y=\"Temperature (K)\")"
   ]
  },
  {
   "cell_type": "markdown",
   "id": "c2c2702d-cd38-43e8-b97a-6f9bd209a380",
   "metadata": {},
   "source": [
    "This graph shows that the main-sequence star type has a higher average temperature than all the dwarf and giant stars."
   ]
  },
  {
   "cell_type": "code",
   "execution_count": 180,
   "id": "31d1dd55-43b2-4eea-98c0-95317f1799f0",
   "metadata": {},
   "outputs": [
    {
     "data": {
      "text/plain": [
       "<AxesSubplot:xlabel='Star type', ylabel='Luminosity(L/Lo)'>"
      ]
     },
     "execution_count": 180,
     "metadata": {},
     "output_type": "execute_result"
    },
    {
     "data": {
      "image/png": "[encoded data removed]",
      "text/plain": [
       "<Figure size 640x480 with 1 Axes>"
      ]
     },
     "metadata": {},
     "output_type": "display_data"
    }
   ],
   "source": [
    "# 2. \n",
    "sb.barplot(data=data, x=\"Star type\", y=\"Luminosity(L/Lo)\")"
   ]
  },
  {
   "cell_type": "markdown",
   "id": "f3166d70-3265-479e-b773-e92284de62b8",
   "metadata": {},
   "source": [
    "This graph shows that the mean luminosity of the giant and main-sequence stars are incredibly large compared to the dwarf stars. The giant stars are 250000+ L/Lo larger than that of the main sequence stars' average luminosity."
   ]
  },
  {
   "cell_type": "markdown",
   "id": "2b149250-195c-49b7-b8dc-26543a5f8261",
   "metadata": {},
   "source": [
    "## Training Logistic Regression Model with the data\n",
    "Logistic Regression (binary classification)\n",
    "- The target variable we will observe is the star type, with temperature and luminosity as factors.\n",
    "- This model will predict between what are considered dwarf stars vs main-sequence + giant stars.\n",
    "- We must first modify the columns. 1 = dwarf, 0 = giant/main-sequence. "
   ]
  },
  {
   "cell_type": "markdown",
   "id": "5f92beb6-7c7c-4ad6-878d-afc0962f175b",
   "metadata": {},
   "source": [
    "### Modifying columns"
   ]
  },
  {
   "cell_type": "code",
   "execution_count": 181,
   "id": "093a640b-3dba-494b-b509-363c7525fa86",
   "metadata": {},
   "outputs": [],
   "source": [
    "# create a new column\n",
    "data['star_type'] = np.where(data['Star type'] < 3, 1, 0)\n",
    "\n",
    "# make 'star_type' data type = category\n",
    "data.star_type = data.star_type.astype('category').cat.codes\n",
    "\n",
    "# delete all extra columns\n",
    "del data['Radius(R/Ro)']\n",
    "del data['Absolute magnitude(Mv)']\n",
    "del data['Star color']\n",
    "del data['Star type']\n",
    "del data['Spectral Class']"
   ]
  },
  {
   "cell_type": "code",
   "execution_count": 182,
   "id": "392bd774-23e4-43fc-ad00-f8ac84c7183a",
   "metadata": {},
   "outputs": [
    {
     "name": "stdout",
     "output_type": "stream",
     "text": [
      "    Temperature (K)  Luminosity(L/Lo)  star_type\n",
      "0              3068          0.002400          1\n",
      "1              3042          0.000500          1\n",
      "2              2600          0.000300          1\n",
      "3              2800          0.000200          1\n",
      "4              1939          0.000138          1\n",
      "5              2840          0.000650          1\n",
      "6              2637          0.000730          1\n",
      "7              2600          0.000400          1\n",
      "8              2650          0.000690          1\n",
      "9              2700          0.000180          1\n",
      "10             3600          0.002900          1\n",
      "11             3129          0.012200          1\n",
      "12             3134          0.000400          1\n",
      "13             3628          0.005500          1\n",
      "14             2650          0.000600          1\n",
      "15             3340          0.003800          1\n",
      "16             2799          0.001800          1\n",
      "17             3692          0.003670          1\n",
      "18             3192          0.003620          1\n",
      "19             3441          0.039000          1\n",
      "20            25000          0.056000          1\n",
      "21             7740          0.000490          1\n",
      "22             7220          0.000170          1\n",
      "23             8500          0.000500          1\n",
      "24            16500          0.013000          1\n"
     ]
    }
   ],
   "source": [
    "# print first few lines\n",
    "print(data.head(25))"
   ]
  },
  {
   "cell_type": "markdown",
   "id": "a7e1850c-7cf4-46f8-b5cc-b2c33367b647",
   "metadata": {},
   "source": [
    "### Training data"
   ]
  },
  {
   "cell_type": "code",
   "execution_count": 183,
   "id": "8df8975a-4f38-4a0f-a5f1-591946fad4e2",
   "metadata": {},
   "outputs": [
    {
     "name": "stdout",
     "output_type": "stream",
     "text": [
      "Train size:  (192, 2)\n",
      "Test size:  (48, 2)\n"
     ]
    }
   ],
   "source": [
    "# 80/20 train test split\n",
    "from sklearn.model_selection import train_test_split\n",
    " \n",
    "x = data.loc[:, ['Luminosity(L/Lo)','Temperature (K)']]\n",
    "y = data['star_type']\n",
    "\n",
    "# split\n",
    "x_train, x_test, y_train, y_test = train_test_split(x, y, test_size=0.2, random_state=1234)\n",
    "\n",
    "# output dimensions of train and test dataframes\n",
    "print(\"Train size: \", x_train.shape)\n",
    "print(\"Test size: \", x_test.shape)"
   ]
  },
  {
   "cell_type": "markdown",
   "id": "a4df1193-d1b1-4ffb-ae35-eb2a850ac584",
   "metadata": {},
   "source": [
    "### Logistic Regression"
   ]
  },
  {
   "cell_type": "code",
   "execution_count": 184,
   "id": "ad74d6fa-a1a5-4cc6-a985-3772ab70ed79",
   "metadata": {},
   "outputs": [
    {
     "name": "stdout",
     "output_type": "stream",
     "text": [
      "              precision    recall  f1-score   support\n",
      "\n",
      "           0       1.00      0.93      0.96        27\n",
      "           1       0.91      1.00      0.95        21\n",
      "\n",
      "    accuracy                           0.96        48\n",
      "   macro avg       0.96      0.96      0.96        48\n",
      "weighted avg       0.96      0.96      0.96        48\n",
      "\n"
     ]
    }
   ],
   "source": [
    "# training data\n",
    "from sklearn.linear_model import LogisticRegression\n",
    "from sklearn.metrics import classification_report, precision_score, recall_score\n",
    "clf = LogisticRegression()\n",
    "clf.fit(x_train, y_train)\n",
    "clf.score(x_train, y_train)\n",
    "\n",
    "# testing\n",
    "pred = clf.predict(x_test)\n",
    "\n",
    "# evaluation\n",
    "print(classification_report(y_test, pred, target_names=None))"
   ]
  },
  {
   "cell_type": "markdown",
   "id": "ab6d3491-1ac4-45e2-8922-b178133275ad",
   "metadata": {},
   "source": [
    "Logistic regression model has an accuracy score of 0.96.\n",
    "This indicates that a logistic regression model is highly suitable to perform accurate predictions of star types (determining if the star is a dwarf star or not) using the factors of temperature and luminosity. We could train more models, like a simple RNN or CNN. Since the logistic regression model has proven to be almost 100% accurate, it's likely the neural networks may be less accurate at predicting dwarf stars."
   ]
  },
  {
   "cell_type": "code",
   "execution_count": null,
   "id": "8797145e-c14d-4420-9c60-0cb0928c44aa",
   "metadata": {},
   "outputs": [],
   "source": []
  }
 ],
 "metadata": {
  "kernelspec": {
   "display_name": "Python 3 (ipykernel)",
   "language": "python",
   "name": "python3"
  },
  "language_info": {
   "codemirror_mode": {
    "name": "ipython",
    "version": 3
   },
   "file_extension": ".py",
   "mimetype": "text/x-python",
   "name": "python",
   "nbconvert_exporter": "python",
   "pygments_lexer": "ipython3",
   "version": "3.9.13"
  }
 },
 "nbformat": 4,
 "nbformat_minor": 5
}
